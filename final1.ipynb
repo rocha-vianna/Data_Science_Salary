{
 "cells": [
  {
   "cell_type": "markdown",
   "id": "90d75ef5",
   "metadata": {},
   "source": [
    "# Analisando salários da área de dados"
   ]
  },
  {
   "cell_type": "markdown",
   "id": "47171287",
   "metadata": {},
   "source": [
    "### Em desenvolvimento - atualizado em 23/09/2023"
   ]
  },
  {
   "cell_type": "markdown",
   "id": "c1dec7c7",
   "metadata": {},
   "source": [
    "## Contexto"
   ]
  },
  {
   "cell_type": "markdown",
   "id": "fadacebb",
   "metadata": {},
   "source": [
    "A área de dados, também conhecida como ciência de dados e análise de dados, é fundamental em uma variedade de setores e indústrias. Os profissionais dessa área são responsáveis por coletar, analisar e interpretar informações para auxiliar na tomada de decisões estratégicas."
   ]
  },
  {
   "cell_type": "markdown",
   "id": "39a539aa",
   "metadata": {},
   "source": [
    "A área de dados é dinâmica e em constante evolução, desempenhando um papel crítico na transformação digital das organizações. Profissionais dessa área são altamente valorizados devido à sua capacidade de transformar dados em insights acionáveis para impulsionar o sucesso dos negócios."
   ]
  },
  {
   "cell_type": "markdown",
   "id": "661181fc",
   "metadata": {},
   "source": [
    "## Conjunto de dados\n",
    "\n",
    "Coleta de dados do Kaggle sob o link:\n",
    "    https://www.kaggle.com/datasets/nikhilbhathi/data-scientist-salary-us-glassdoor"
   ]
  },
  {
   "cell_type": "markdown",
   "id": "8013a86a",
   "metadata": {},
   "source": [
    "Este conjunto de dados foi criado ao extrair anúncios de empregos relacionados ao cargo de 'Cientista de Dados' do site www.glassdoor.com nos Estados Unidos. Autor utilizou o Selenium para coletar os dados brutos. "
   ]
  },
  {
   "cell_type": "markdown",
   "id": "9bbe4a66",
   "metadata": {},
   "source": [
    "## Dicionário de dados\n",
    "- Work_year: ano de extração dos dados, variando de 2020 a 2023;\n",
    "- Expert_level: nível dos cargos como 'EN' (Entry ou Júnior), 'MI' (Middle ou Pleno), 'SE' (Senior ou Sênior) e 'EX' (Expert ou Especialista);\n",
    "- Employment_title: modalidade do cargo, podendo ser 'CT' (Contract Type ou Contrato por um determinado período), 'FL' (Freelancer), 'FT' (Full-Time ou Tempo integral) e 'PT' (Partial-time ou Meio-período);\n",
    "- Job_title: nome do cargo com 93 cargos distintos;\n",
    "- Salary_in_USD: salário anual em Dólar;\n",
    "- Company_location: código do país sede da empresa;\n",
    "- Company_size: indica o tamanho da empresa, podendo ser 'S' (Small ou Pequena), 'M' (Medium ou Média) e 'L' (Large ou Grande)."
   ]
  },
  {
   "cell_type": "markdown",
   "id": "24f19c5a",
   "metadata": {},
   "source": [
    "Foram criadas colunas descritivas para facilitar na visualização de dados, além de outros arquivos CSV para realizar correlação de dados, como identificar continente do país.\n"
   ]
  },
  {
   "cell_type": "markdown",
   "id": "bb830474",
   "metadata": {},
   "source": [
    "Para eliminar possíveis duplicatas remanescentes, foi criado o campo 'ID' formatado da seguinte forma:\n",
    "\n",
    "Work_year + Expert_level + Employment_type + Salary_in_USD + Company_location + Job_title\n",
    "\n",
    "E através desse ID foram encontrados e retirados mais alguns registros duplicados. \n",
    "Restando 2406 registros únicos."
   ]
  },
  {
   "cell_type": "markdown",
   "id": "770cefd5",
   "metadata": {},
   "source": [
    "## Processo"
   ]
  },
  {
   "cell_type": "markdown",
   "id": "c9040fb1",
   "metadata": {},
   "source": [
    "Projeto desenvolvido com o uso do Excel para limpeza e modelagem de dados, além da análise e desenvolvimento de visualizações."
   ]
  },
  {
   "cell_type": "markdown",
   "id": "31b68a12",
   "metadata": {},
   "source": [
    "Abri o arquivo .CSV no Excel e realizei a limpeza e tratamento dos dados para prepará-los para análises.\n",
    "Foram criados relações com outros arquivos de diversas fontes, para juntar dados relevantes para as análises.\n",
    "Criado visualizações para extrair insights do conjunto de dados."
   ]
  },
  {
   "cell_type": "markdown",
   "id": "6cfcaff3",
   "metadata": {},
   "source": [
    "## Análises individuais das colunas relevantes"
   ]
  },
  {
   "cell_type": "markdown",
   "id": "97f16b26",
   "metadata": {},
   "source": [
    "### Ano de extração dos dados (Work_year)\n",
    "\n",
    "O gráfico nos mostra um crescimento exponencial de 2021 para 2022 e uma estabilizada de 2022 para 2023.\n",
    "Proporciona um sentimento de crescimento, uma vez que o ano de 2023 não acabou e já superou os números de 2022.\n",
    "\n",
    "![work_year](img/work_year.PNG)"
   ]
  },
  {
   "cell_type": "markdown",
   "id": "3a6ecb5a",
   "metadata": {},
   "source": [
    "### Níveis dos cargos (Expert_level)\n",
    "\n",
    "Observa-se uma predominância de cargos seniores, com mais do dobro de cargos plenos. O que pode influenciar em muito na hora de comparar salários e outras análises, devendo ser observado cuidadosamente quando for realizá-las para não ter resultados tendenciosos.\n",
    "\n",
    "![carg_niv](img/carg_niv.PNG)"
   ]
  },
  {
   "cell_type": "markdown",
   "id": "ed3bd814",
   "metadata": {},
   "source": [
    "### Modalidade do cargo (Employment_type)\n",
    "\n",
    "Por ser apenas 4 categorias, não foi possível criar uma visualização para expressar essa diferença gigantesca, uma vez que mais de 98% dos registros se encontra na categoria de Tempo Integral (Full-time)\n",
    "\n",
    "![emp_type](img/emp_type.PNG)"
   ]
  },
  {
   "cell_type": "markdown",
   "id": "07fd044e",
   "metadata": {},
   "source": [
    "### País sede da empresa (Company_location)\n",
    "\n",
    "Foram registrados 72 países distintos, sendo os Estados Unidos da América com 1759 registros. \n",
    "O Brasil aparece em 8º colocado com apenas 15 registros. Segue um recorte da tabela com os países:\n",
    "\n",
    "![company_location](img/company_location.PNG)"
   ]
  },
  {
   "attachments": {},
   "cell_type": "markdown",
   "id": "4810f6b8",
   "metadata": {},
   "source": [
    "### Tamanho da empresa (Company_size)\n",
    "\n",
    "Temos 3 tipos de tamanhos e podemos ver que a maioria são empresas Médias, seguidas das Grandes e poucas Pequenas.\n",
    "\n",
    "![comp_size](img/comp_size.PNG)"
   ]
  },
  {
   "cell_type": "markdown",
   "id": "b97c9178",
   "metadata": {},
   "source": [
    "Encerrando as análises individuais dos dados para passarmos para a parte de verificar as relações que podemos verificar entre os dados."
   ]
  },
  {
   "cell_type": "markdown",
   "id": "b6c947a5",
   "metadata": {},
   "source": [
    "## Relacionando dados para extrair insights"
   ]
  },
  {
   "cell_type": "markdown",
   "id": "44ad01ee",
   "metadata": {},
   "source": [
    "### Relação entre salário anual em dólar com os níveis dos cargos (Salary_in_usd x Expert_level)\n",
    "\n",
    "O gráfico abaixo retrata a variação entre mínimo, média e máximo dos salarios, por nivel do cargo\n",
    "\n",
    "![min_max_level](img/min_max_level.PNG)"
   ]
  },
  {
   "cell_type": "markdown",
   "id": "6883acad",
   "metadata": {},
   "source": [
    "Podemos ver a seguir a evolução dos salários ao longo dos anos de 2020 a 2023\n",
    "\n",
    "![level_year](img/level_year.PNG)"
   ]
  },
  {
   "cell_type": "markdown",
   "id": "5160b6e8",
   "metadata": {},
   "source": [
    "A seguir visualizações da evolução de cada nível de cargo separadamente"
   ]
  },
  {
   "cell_type": "markdown",
   "id": "5b0050cb",
   "metadata": {},
   "source": [
    "Entry\n",
    "\n",
    "![entry](img/entry.PNG)"
   ]
  },
  {
   "cell_type": "markdown",
   "id": "57de0b25",
   "metadata": {},
   "source": [
    "Middle\n",
    "\n",
    "![middle](img/middle.PNG)"
   ]
  },
  {
   "cell_type": "markdown",
   "id": "4de011cc",
   "metadata": {},
   "source": [
    "Senior\n",
    "\n",
    "![senior](img/senior.PNG)"
   ]
  },
  {
   "cell_type": "markdown",
   "id": "6f0ec8e5",
   "metadata": {},
   "source": [
    "Expert\n",
    "\n",
    "![expert](img/expert.PNG)"
   ]
  },
  {
   "cell_type": "markdown",
   "id": "f87d7b9e",
   "metadata": {},
   "source": [
    "Distribuição mundial\n",
    "\n",
    "![map](img/map.PNG)"
   ]
  },
  {
   "cell_type": "markdown",
   "id": "0eb29e21",
   "metadata": {},
   "source": [
    "Cargos por Continente\n",
    "\n",
    "![cont](img/cont.PNG)"
   ]
  },
  {
   "cell_type": "markdown",
   "id": "546b2a83",
   "metadata": {},
   "source": [
    "Média salarial por continente\n",
    "\n",
    "![usd_cont](img/usd_cont.PNG)"
   ]
  },
  {
   "cell_type": "markdown",
   "id": "9413e950",
   "metadata": {},
   "source": [
    "Quantidade de cargos por nível e continente\n",
    "\n",
    "![lvl_cont](img/lvl_cont.PNG)"
   ]
  },
  {
   "cell_type": "markdown",
   "id": "2a91fba7",
   "metadata": {},
   "source": [
    "Quantidade de nomes de cargos registrados - mostrando apenas os cargos com 50 ou mais registros\n",
    "\n",
    "![job_title](img/job_title.PNG)"
   ]
  },
  {
   "cell_type": "markdown",
   "id": "cbe489bd",
   "metadata": {},
   "source": [
    "Média salarial por cargo\n",
    "\n",
    "Baseado nos cargos do gráfico anterior, veja o gráfico abaixo\n",
    "\n",
    "![usd_job](img/usd_job.PNG)"
   ]
  },
  {
   "cell_type": "code",
   "execution_count": null,
   "id": "9d75ac18",
   "metadata": {},
   "outputs": [],
   "source": []
  },
  {
   "cell_type": "code",
   "execution_count": null,
   "id": "96fcf419",
   "metadata": {},
   "outputs": [],
   "source": []
  }
 ],
 "metadata": {
  "kernelspec": {
   "display_name": "Python 3 (ipykernel)",
   "language": "python",
   "name": "python3"
  },
  "language_info": {
   "codemirror_mode": {
    "name": "ipython",
    "version": 3
   },
   "file_extension": ".py",
   "mimetype": "text/x-python",
   "name": "python",
   "nbconvert_exporter": "python",
   "pygments_lexer": "ipython3",
   "version": "3.11.4"
  }
 },
 "nbformat": 4,
 "nbformat_minor": 5
}
